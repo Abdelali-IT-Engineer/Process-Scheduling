{
 "cells": [
  {
   "cell_type": "code",
   "execution_count": 284,
   "metadata": {},
   "outputs": [],
   "source": [
    "import matplotlib.pyplot as plt"
   ]
  },
  {
   "cell_type": "markdown",
   "metadata": {},
   "source": [
    "# util.py"
   ]
  },
  {
   "cell_type": "markdown",
   "metadata": {},
   "source": [
    "  Reads lines from a file, excluding blank lines and comments (lines starting with \"#\").\n",
    "\n",
    "  Args:\n",
    "      filename: The path to the file to read.\n",
    "\n",
    "  Returns:\n",
    "      A list of non-empty lines (excluding blank lines and comments)."
   ]
  },
  {
   "cell_type": "code",
   "execution_count": 285,
   "metadata": {},
   "outputs": [],
   "source": [
    "def read_non_empty_lines(filename):\n",
    "  \n",
    "  data = []\n",
    "  with open(filename, 'r') as file:\n",
    "    for line in file:\n",
    "      line = line.strip()  # Remove leading/trailing whitespace\n",
    "      if line and not line.startswith('#'):  # Check if not empty and not a comment\n",
    "        data.append(line)\n",
    "  return data\n"
   ]
  },
  {
   "cell_type": "code",
   "execution_count": 286,
   "metadata": {},
   "outputs": [
    {
     "name": "stdout",
     "output_type": "stream",
     "text": [
      "This is non-empty lines from config.txt\n",
      "A 1 2\n",
      "B 2 5\n",
      "C 2 11\n",
      "D 3 6\n",
      "E 5 13\n"
     ]
    }
   ],
   "source": [
    "filename = \"config.txt\"\n",
    "non_empty_lines = read_non_empty_lines(filename)\n",
    "print(\"This is non-empty lines from\", filename)\n",
    "for line in non_empty_lines:\n",
    "  print(line)"
   ]
  },
  {
   "cell_type": "markdown",
   "metadata": {},
   "source": [
    "  Splits a line into a list of tokens based on a specified delimiter.\n",
    "\n",
    "  Args:\n",
    "      line: The string to split.\n",
    "      delimiter: The delimiter to use for splitting (default is space \" \").\n",
    "\n",
    "  Returns:\n",
    "      A list of tokens from the line."
   ]
  },
  {
   "cell_type": "code",
   "execution_count": 287,
   "metadata": {},
   "outputs": [
    {
     "name": "stdout",
     "output_type": "stream",
     "text": [
      "Tokens: [['A', '1', '2'], ['B', '2', '5'], ['C', '2', '11'], ['D', '3', '6'], ['E', '5', '13']]\n"
     ]
    }
   ],
   "source": [
    "def split_line_into_tokens(line, delimiter=\" \"):\n",
    "    \n",
    "  return line.split(delimiter)\n",
    "\n",
    "# Example usage\n",
    "\n",
    "data=read_non_empty_lines(filename)\n",
    "tokens = []\n",
    "for i in range (len(data)) :\n",
    "  line=data[i]\n",
    "  tokens.append(split_line_into_tokens(line))\n",
    "\n",
    "print(\"Tokens:\", tokens)\n"
   ]
  },
  {
   "cell_type": "markdown",
   "metadata": {},
   "source": [
    "  Converts a list of tokens to appropriate data types for process information.\n",
    "\n",
    "  Args:\n",
    "      tokens: A list of tokens extracted from a line in the configuration file.\n",
    "\n",
    "  Returns:\n",
    "      A tuple containing process information (name, arrival_time, cpu_burst_time)."
   ]
  },
  {
   "cell_type": "code",
   "execution_count": 288,
   "metadata": {},
   "outputs": [
    {
     "name": "stdout",
     "output_type": "stream",
     "text": [
      "Process: A , Arrival Time: 1 , CPU Burst: 2\n",
      "Process: B , Arrival Time: 2 , CPU Burst: 5\n",
      "Process: C , Arrival Time: 2 , CPU Burst: 11\n",
      "Process: D , Arrival Time: 3 , CPU Burst: 6\n",
      "Process: E , Arrival Time: 5 , CPU Burst: 13\n"
     ]
    }
   ],
   "source": [
    "\n",
    "def convert_tokens_to_data(tokens):\n",
    "  \n",
    "  try:\n",
    "    name = tokens[0]\n",
    "    arrival_time = int(tokens[1])\n",
    "    cpu_burst_time = int(tokens[2])\n",
    "    return name, arrival_time, cpu_burst_time\n",
    "  except (IndexError, ValueError):\n",
    "    # Handle potential errors: missing tokens or invalid data types\n",
    "    print(f\"Error processing line: {''.join(tokens)}\")\n",
    "    return None, None, None  # Return dummy values on error\n",
    "\n",
    "\n",
    "process_info_list =[]\n",
    "for j in tokens :\n",
    "  process_info_list.append(convert_tokens_to_data(j))\n",
    "\n",
    "for i in process_info_list :\n",
    "  if i :\n",
    "    name, arrival_time, cpu_burst_time = i\n",
    "    print(\"Process:\", name, \", Arrival Time:\", arrival_time, \", CPU Burst:\", cpu_burst_time)\n"
   ]
  },
  {
   "cell_type": "markdown",
   "metadata": {},
   "source": [
    "## Create process :"
   ]
  },
  {
   "cell_type": "code",
   "execution_count": 289,
   "metadata": {},
   "outputs": [],
   "source": [
    "class Process:\n",
    "    def __init__(self, name, arrival_time, cpu_burst):\n",
    "        self.name = name\n",
    "        self.arrival_time = arrival_time\n",
    "        self.cpu_burst = cpu_burst\n",
    "        self.waiting_time = 0\n",
    "        self.turnaround_time = 0\n",
    "        self.remaining_burst = cpu_burst"
   ]
  },
  {
   "cell_type": "markdown",
   "metadata": {},
   "source": [
    "#### Creates a Process object from tokens and adds it to a list.\n",
    "  ### Args:\n",
    "      tokens: A list of tokens representing process information.\n",
    "\n",
    "  ### Returns:\n",
    "      A Process object (or None on error)."
   ]
  },
  {
   "cell_type": "code",
   "execution_count": 290,
   "metadata": {},
   "outputs": [],
   "source": [
    "\n",
    "def create_process_and_add_to_list(tokens):\n",
    "  \n",
    "  process_info = convert_tokens_to_data(tokens)\n",
    "  if process_info:\n",
    "    name, arrival_time, cpu_burst_time = process_info\n",
    "    process = Process(name, arrival_time, cpu_burst_time)\n",
    "    return process\n",
    "  else:\n",
    "    return None\n"
   ]
  },
  {
   "cell_type": "markdown",
   "metadata": {},
   "source": [
    "Reads process information from a file and creates a list of Process objects.\n",
    "\n",
    "  ### Args:\n",
    "      filename: The path to the configuration file\n",
    "      \n",
    "  ### Returns:\n",
    "      A list of Process objects (or None on errors)"
   ]
  },
  {
   "cell_type": "code",
   "execution_count": 291,
   "metadata": {},
   "outputs": [
    {
     "name": "stdout",
     "output_type": "stream",
     "text": [
      "List of Processes:\n",
      "Process: A, Arrival Time: 1, CPU Burst: 2\n",
      "Process: B, Arrival Time: 2, CPU Burst: 5\n",
      "Process: C, Arrival Time: 2, CPU Burst: 11\n",
      "Process: D, Arrival Time: 3, CPU Burst: 6\n",
      "Process: E, Arrival Time: 5, CPU Burst: 13\n"
     ]
    }
   ],
   "source": [
    "def read_processes_from_file(filename):\n",
    "  \n",
    "  processes = []\n",
    "  non_empty_lines = read_non_empty_lines(filename)\n",
    "  for line in non_empty_lines:\n",
    "    tokens = split_line_into_tokens(line)\n",
    "    process = create_process_and_add_to_list(tokens)\n",
    "    if process:\n",
    "      processes.append(process)\n",
    "    else:\n",
    "      print(f\"Error processing line: {line}\")\n",
    "  return processes\n",
    "\n",
    "\n",
    "filename = \"config.txt\"\n",
    "processes = read_processes_from_file(filename)\n",
    "\n",
    "if processes:\n",
    "  print(\"List of Processes:\")\n",
    "  for process in processes:\n",
    "    print(f\"Process: {process.name}, Arrival Time: {process.arrival_time}, CPU Burst: {process.cpu_burst}\")\n",
    "else:\n",
    "  print(\"Error reading processes from file!\")"
   ]
  },
  {
   "cell_type": "markdown",
   "metadata": {},
   "source": [
    "# fifo.py"
   ]
  },
  {
   "cell_type": "code",
   "execution_count": 292,
   "metadata": {},
   "outputs": [],
   "source": [
    "\n",
    "def fifo_function(processes):\n",
    "    current_time = 0\n",
    "    for process in processes:\n",
    "        if process.arrival_time > current_time:\n",
    "            current_time = process.arrival_time\n",
    "\n",
    "        process.waiting_time = current_time - process.arrival_time\n",
    "        current_time += process.cpu_burst\n",
    "\n",
    "        process.turnaround_time = current_time - process.arrival_time\n",
    "\n",
    "    # Calculate average waiting time and turnaround time\n",
    "    avg_waiting_time = sum(process.waiting_time for process in processes) / len(processes)\n",
    "    avg_turnaround_time = sum(process.turnaround_time for process in processes) / len(processes)\n",
    "\n",
    "    # Print results\n",
    "    print(\"FIFO Scheduling Results:\")\n",
    "    print(\"Average Waiting Time:\", avg_waiting_time)\n",
    "    print(\"Average Turnaround Time:\", avg_turnaround_time)\n",
    "    print(\"Individual Process Statistics:\")\n",
    "    for process in processes:\n",
    "        print(f\"Process: {process.name}, Waiting Time: {process.waiting_time}, Turnaround Time: {process.turnaround_time}\")\n",
    "\n",
    "\n"
   ]
  },
  {
   "cell_type": "code",
   "execution_count": 293,
   "metadata": {},
   "outputs": [
    {
     "name": "stdout",
     "output_type": "stream",
     "text": [
      "FIFO Scheduling Results:\n",
      "Average Waiting Time: 8.6\n",
      "Average Turnaround Time: 16.0\n",
      "Individual Process Statistics:\n",
      "Process: A, Waiting Time: 0, Turnaround Time: 2\n",
      "Process: B, Waiting Time: 1, Turnaround Time: 6\n",
      "Process: C, Waiting Time: 6, Turnaround Time: 17\n",
      "Process: D, Waiting Time: 16, Turnaround Time: 22\n",
      "Process: E, Waiting Time: 20, Turnaround Time: 33\n"
     ]
    }
   ],
   "source": [
    "fifo_function(processes)"
   ]
  },
  {
   "cell_type": "markdown",
   "metadata": {},
   "source": [
    "# sjf.py\n",
    "\n",
    "Simulates the Shortest Job First (SJF) scheduling algorithm.\n",
    "\n",
    "    Args:\n",
    "        processes: A list of Process objects.\n",
    "\n",
    "    Prints the Gantt chart and calculates waiting time and turnaround time for each process."
   ]
  },
  {
   "cell_type": "markdown",
   "metadata": {},
   "source": []
  },
  {
   "cell_type": "code",
   "execution_count": 294,
   "metadata": {},
   "outputs": [],
   "source": [
    "def sjf_function(processes):\n",
    "    \n",
    "    processes.sort(key=lambda process: process.arrival_time)  # Sort by arrival time initially\n",
    "    \n",
    "    current_time = 0\n",
    "    completed_processes = []\n",
    "    remaining_processes = processes.copy()\n",
    "    \n",
    "    while remaining_processes:\n",
    "        # Filter processes that have arrived by current time\n",
    "        available_processes = [p for p in remaining_processes if p.arrival_time <= current_time]\n",
    "        \n",
    "        if not available_processes:\n",
    "            # If no process has arrived, move time forward to the next arriving process\n",
    "            current_time = remaining_processes[0].arrival_time\n",
    "            available_processes = [p for p in remaining_processes if p.arrival_time <= current_time]\n",
    "        \n",
    "        # Select the process with the shortest CPU burst from the available processes\n",
    "        next_process = min(available_processes, key=lambda process: process.cpu_burst)\n",
    "        \n",
    "        completed_time = current_time + next_process.cpu_burst\n",
    "        next_process.waiting_time = current_time - next_process.arrival_time\n",
    "        next_process.turnaround_time = next_process.waiting_time + next_process.cpu_burst\n",
    "\n",
    "        completed_processes.append(next_process)\n",
    "        remaining_processes.remove(next_process)\n",
    "        current_time = completed_time\n",
    "\n",
    "        print(f\"[{current_time - next_process.cpu_burst}:{current_time}] Process {next_process.name}\")\n",
    "\n",
    "    # Calculate average waiting time and turnaround time\n",
    "    avg_waiting_time = sum(process.waiting_time for process in completed_processes) / len(completed_processes)\n",
    "    avg_turnaround_time = sum(process.turnaround_time for process in completed_processes) / len(completed_processes)\n",
    "\n",
    "    print(f\"Average Waiting Time: {avg_waiting_time:.2f}\")\n",
    "    print(f\"Average Turnaround Time: {avg_turnaround_time:.2f}\")\n",
    "\n"
   ]
  },
  {
   "cell_type": "code",
   "execution_count": 295,
   "metadata": {},
   "outputs": [
    {
     "name": "stdout",
     "output_type": "stream",
     "text": [
      "[1:3] Process A\n",
      "[3:8] Process B\n",
      "[8:14] Process D\n",
      "[14:25] Process C\n",
      "[25:38] Process E\n",
      "Average Waiting Time: 7.60\n",
      "Average Turnaround Time: 15.00\n"
     ]
    }
   ],
   "source": [
    "sjf_function(processes)"
   ]
  },
  {
   "cell_type": "code",
   "execution_count": 296,
   "metadata": {},
   "outputs": [
    {
     "name": "stdout",
     "output_type": "stream",
     "text": [
      "List of Processes:\n",
      "Process: A, Arrival Time: 1, CPU Burst: 2\n",
      "Process: B, Arrival Time: 2, CPU Burst: 5\n",
      "Process: C, Arrival Time: 2, CPU Burst: 11\n",
      "Process: D, Arrival Time: 3, CPU Burst: 6\n",
      "Process: E, Arrival Time: 5, CPU Burst: 13\n",
      "[1:3] Process A\n",
      "[3:6] Process B\n",
      "[6:9] Process C\n",
      "[9:12] Process D\n",
      "[12:14] Process B\n",
      "[14:17] Process E\n",
      "[17:20] Process C\n",
      "[20:23] Process D\n",
      "[23:26] Process E\n",
      "[26:29] Process C\n",
      "[29:32] Process E\n",
      "[32:34] Process C\n",
      "[34:37] Process E\n",
      "[37:38] Process E\n",
      "Average Waiting Time: 12.40\n",
      "Average Turnaround Time: 19.80\n"
     ]
    },
    {
     "data": {
      "image/png": "[encoded data removed]",
      "text/plain": [
       "<Figure size 640x480 with 1 Axes>"
      ]
     },
     "metadata": {},
     "output_type": "display_data"
    },
    {
     "data": {
      "image/png": "[encoded data removed]",
      "text/plain": [
       "<Figure size 640x480 with 1 Axes>"
      ]
     },
     "metadata": {},
     "output_type": "display_data"
    }
   ],
   "source": [
    "\n",
    "def rr_functionG(processes, time_quantum):\n",
    "    ready_queue = []  # Queue for processes ready to be executed\n",
    "    completed_processes = []\n",
    "    current_time = 0\n",
    "    gantt_chart = []\n",
    "\n",
    "    while processes or ready_queue:\n",
    "        # Add processes that have arrived at current time\n",
    "        ready_queue.extend([p for p in processes if p.arrival_time <= current_time])\n",
    "        processes = [p for p in processes if p.arrival_time > current_time]\n",
    "\n",
    "        # Check if ready queue is empty\n",
    "        if not ready_queue:\n",
    "            current_time += 1\n",
    "            continue\n",
    "\n",
    "        # Get the first process from the queue\n",
    "        process = ready_queue.pop(0)\n",
    "\n",
    "        # Execute the process for the time quantum or remaining burst\n",
    "        execution_time = min(time_quantum, process.remaining_burst)\n",
    "        gantt_chart.append((process.name, current_time, current_time + execution_time))\n",
    "        print(f\"[{current_time}:{current_time + execution_time}] Process {process.name}\")\n",
    "\n",
    "        current_time += execution_time\n",
    "        process.remaining_burst -= execution_time\n",
    "\n",
    "        # Process completed\n",
    "        if process.remaining_burst == 0:\n",
    "            process.turnaround_time = current_time - process.arrival_time\n",
    "            completed_processes.append(process)\n",
    "        else:\n",
    "            # Add back the process to the ready queue for further execution\n",
    "            ready_queue.append(process)\n",
    "\n",
    "    # Calculate average waiting time and turnaround time\n",
    "    for process in completed_processes:\n",
    "        process.waiting_time = process.turnaround_time - process.cpu_burst\n",
    "\n",
    "    avg_waiting_time = sum(process.waiting_time for process in completed_processes) / len(completed_processes)\n",
    "    avg_turnaround_time = sum(process.turnaround_time for process in completed_processes) / len(completed_processes)\n",
    "\n",
    "    print(f\"Average Waiting Time: {avg_waiting_time:.2f}\")\n",
    "    print(f\"Average Turnaround Time: {avg_turnaround_time:.2f}\")\n",
    "\n",
    "    # Affichage graphique des résultats\n",
    "    plot_gantt_chart(gantt_chart)\n",
    "    plot_process_statistics(completed_processes)\n",
    "\n",
    "def plot_gantt_chart(gantt_chart):\n",
    "    fig, gnt = plt.subplots()\n",
    "\n",
    "    # Set limits and labels for the plot\n",
    "    gnt.set_ylim(0, 10 * len(set(name for name, _, _ in gantt_chart)))\n",
    "    gnt.set_xlim(0, max(end for _, _, end in gantt_chart))\n",
    "    gnt.set_xlabel('Temps')\n",
    "    gnt.set_ylabel('Processus')\n",
    "\n",
    "    # Extract unique process names and assign a position for each\n",
    "    process_names = list(set(name for name, _, _ in gantt_chart))\n",
    "    process_names.sort()\n",
    "    process_positions = {name: (idx * 10 + 5) for idx, name in enumerate(process_names)}\n",
    "    gnt.set_yticks(list(process_positions.values()))\n",
    "    gnt.set_yticklabels(process_names)\n",
    "    gnt.grid(True)\n",
    "\n",
    "    # Plot each process in the Gantt chart\n",
    "    for process_name, start_time, end_time in gantt_chart:\n",
    "        gnt.broken_barh([(start_time, end_time - start_time)], (process_positions[process_name] - 5, 9), facecolors=('tab:blue'))\n",
    "    \n",
    "    plt.title('Diagramme de Gantt de l\\'ordonnancement Round Robin')\n",
    "    plt.show()\n",
    "\n",
    "def plot_process_statistics(completed_processes):\n",
    "    process_names = [process.name for process in completed_processes]\n",
    "    waiting_times = [process.waiting_time for process in completed_processes]\n",
    "    turnaround_times = [process.turnaround_time for process in completed_processes]\n",
    "\n",
    "    x = range(len(completed_processes))\n",
    "\n",
    "    fig, ax = plt.subplots()\n",
    "    ax.bar(x, waiting_times, width=0.4, label='Temps d\\'attente', align='center')\n",
    "    ax.bar(x, turnaround_times, width=0.4, label='Temps de séjour', align='edge')\n",
    "\n",
    "    ax.set_xlabel('Processus')\n",
    "    ax.set_ylabel('Temps')\n",
    "    ax.set_title('Temps d\\'attente et de séjour des processus')\n",
    "    ax.set_xticks(x)\n",
    "    ax.set_xticklabels(process_names)\n",
    "    ax.legend()\n",
    "\n",
    "    plt.show()\n",
    "\n",
    "\n",
    "print(\"List of Processes:\")\n",
    "for process in processes:\n",
    "   print(f\"Process: {process.name}, Arrival Time: {process.arrival_time}, CPU Burst: {process.cpu_burst}\")\n",
    "\n",
    "rr_functionG(processes, time_quantum=3)\n"
   ]
  },
  {
   "cell_type": "markdown",
   "metadata": {},
   "source": [
    "# rr.py\n",
    "\n",
    "Simulates the Round Robin (RR) scheduling algorithm.\n",
    "\n",
    "    Args:\n",
    "        processes: A list of Process objects.\n",
    "        time_quantum: The time quantum for RR scheduling.\n",
    "\n",
    "    Prints the Gantt chart and calculates waiting time and turnaround time for each process."
   ]
  },
  {
   "cell_type": "code",
   "execution_count": 297,
   "metadata": {},
   "outputs": [],
   "source": [
    "def rr_function(processes, time_quantum):\n",
    "    \"\"\"\n",
    "    Simulates the Round Robin (RR) scheduling algorithm.\n",
    "\n",
    "    Args:\n",
    "        processes: A list of Process objects.\n",
    "        time_quantum: The time quantum for RR scheduling.\n",
    "\n",
    "    Prints the Gantt chart and calculates waiting time and turnaround time for each process.\n",
    "    \"\"\"\n",
    "    ready_queue = []  # Queue for processes ready to be executed\n",
    "    completed_processes = []\n",
    "    current_time = 0\n",
    "\n",
    "    while processes or ready_queue:\n",
    "        # Add processes that have arrived at current time\n",
    "        ready_queue.extend([p for p in processes if p.arrival_time <= current_time])\n",
    "        processes = [p for p in processes if p.arrival_time > current_time]\n",
    "\n",
    "        # Check if ready queue is empty\n",
    "        if not ready_queue:\n",
    "            current_time += 1\n",
    "            continue\n",
    "\n",
    "        # Get the first process from the queue\n",
    "        process = ready_queue.pop(0)\n",
    "\n",
    "        # Execute the process for the time quantum or remaining burst\n",
    "        execution_time = min(time_quantum, process.remaining_burst)\n",
    "        print(f\"[{current_time}:{current_time + execution_time}] Process {process.name}\")\n",
    "        \n",
    "        current_time += execution_time\n",
    "        process.remaining_burst -= execution_time\n",
    "\n",
    "        # Process completed\n",
    "        if process.remaining_burst == 0:\n",
    "            process.turnaround_time = current_time - process.arrival_time\n",
    "            completed_processes.append(process)\n",
    "        else:\n",
    "            # Add back the process to the ready queue for further execution\n",
    "            ready_queue.append(process)\n",
    "\n",
    "    # Calculate average waiting time and turnaround time\n",
    "    for process in completed_processes:\n",
    "        process.waiting_time = process.turnaround_time - process.cpu_burst\n",
    "    \n",
    "    avg_waiting_time = sum(process.waiting_time for process in completed_processes) / len(completed_processes)\n",
    "    avg_turnaround_time = sum(process.turnaround_time for process in completed_processes) / len(completed_processes)\n",
    "\n",
    "    print(f\"Average Waiting Time: {avg_waiting_time:.2f}\")\n",
    "    print(f\"Average Turnaround Time: {avg_turnaround_time:.2f}\")\n",
    "\n"
   ]
  },
  {
   "cell_type": "code",
   "execution_count": 298,
   "metadata": {},
   "outputs": [
    {
     "name": "stdout",
     "output_type": "stream",
     "text": [
      "[1:1] Process A\n",
      "[2:2] Process B\n",
      "[2:2] Process C\n",
      "[3:3] Process D\n",
      "[5:5] Process E\n",
      "Average Waiting Time: -7.40\n",
      "Average Turnaround Time: 0.00\n"
     ]
    }
   ],
   "source": [
    "rr_function(processes, time_quantum=2) "
   ]
  },
  {
   "cell_type": "code",
   "execution_count": 299,
   "metadata": {},
   "outputs": [
    {
     "name": "stdout",
     "output_type": "stream",
     "text": [
      "List of Processes:\n",
      "Process: A, Arrival Time: 1, CPU Burst: 2\n",
      "Process: B, Arrival Time: 2, CPU Burst: 5\n",
      "Process: C, Arrival Time: 2, CPU Burst: 11\n",
      "Process: D, Arrival Time: 3, CPU Burst: 6\n",
      "Process: E, Arrival Time: 5, CPU Burst: 13\n",
      "FIFO Scheduling Results:\n",
      "Average Waiting Time: 8.6\n",
      "Average Turnaround Time: 16.0\n",
      "Individual Process Statistics:\n",
      "Process: A, Waiting Time: 0, Turnaround Time: 2\n",
      "Process: B, Waiting Time: 1, Turnaround Time: 6\n",
      "Process: C, Waiting Time: 6, Turnaround Time: 17\n",
      "Process: D, Waiting Time: 16, Turnaround Time: 22\n",
      "Process: E, Waiting Time: 20, Turnaround Time: 33\n"
     ]
    },
    {
     "data": {
      "image/png": "[encoded data removed]",
      "text/plain": [
       "<Figure size 640x480 with 1 Axes>"
      ]
     },
     "metadata": {},
     "output_type": "display_data"
    },
    {
     "data": {
      "image/png": "[encoded data removed]",
      "text/plain": [
       "<Figure size 640x480 with 1 Axes>"
      ]
     },
     "metadata": {},
     "output_type": "display_data"
    }
   ],
   "source": [
    "def fifo_functionG(processes):\n",
    "    current_time = 0\n",
    "    gantt_chart = []\n",
    "\n",
    "    for process in processes:\n",
    "        if process.arrival_time > current_time:\n",
    "            current_time = process.arrival_time\n",
    "\n",
    "        process.waiting_time = current_time - process.arrival_time\n",
    "        gantt_chart.append((process.name, current_time, current_time + process.cpu_burst))\n",
    "        current_time += process.cpu_burst\n",
    "        process.turnaround_time = current_time - process.arrival_time\n",
    "\n",
    "    # Calculate average waiting time and turnaround time\n",
    "    avg_waiting_time = sum(process.waiting_time for process in processes) / len(processes)\n",
    "    avg_turnaround_time = sum(process.turnaround_time for process in processes) / len(processes)\n",
    "\n",
    "    # Print results\n",
    "    print(\"FIFO Scheduling Results:\")\n",
    "    print(\"Average Waiting Time:\", avg_waiting_time)\n",
    "    print(\"Average Turnaround Time:\", avg_turnaround_time)\n",
    "    print(\"Individual Process Statistics:\")\n",
    "    for process in processes:\n",
    "        print(f\"Process: {process.name}, Waiting Time: {process.waiting_time}, Turnaround Time: {process.turnaround_time}\")\n",
    "\n",
    "    # Affichage graphique des résultats\n",
    "    plot_gantt_chart(gantt_chart)\n",
    "    plot_process_statistics(processes)\n",
    "\n",
    "def plot_gantt_chart(gantt_chart):\n",
    "    fig, gnt = plt.subplots()\n",
    "    \n",
    "    # Set limits and labels for the plot\n",
    "    gnt.set_ylim(0, 10 * len(set(name for name, _, _ in gantt_chart)))\n",
    "    gnt.set_xlim(0, max(end for _, _, end in gantt_chart))\n",
    "    gnt.set_xlabel('Temps')\n",
    "    gnt.set_ylabel('Processus')\n",
    "\n",
    "    # Extract unique process names and assign a position for each\n",
    "    process_names = list(set(name for name, _, _ in gantt_chart))\n",
    "    process_names.sort()\n",
    "    process_positions = {name: (idx * 10 + 5) for idx, name in enumerate(process_names)}\n",
    "    gnt.set_yticks(list(process_positions.values()))\n",
    "    gnt.set_yticklabels(process_names)\n",
    "    gnt.grid(True)\n",
    "\n",
    "    # Plot each process in the Gantt chart\n",
    "    for process_name, start_time, end_time in gantt_chart:\n",
    "        gnt.broken_barh([(start_time, end_time - start_time)], (process_positions[process_name] - 5, 9), facecolors=('tab:blue'))\n",
    "    \n",
    "    plt.title('Diagramme de Gantt de l\\'ordonnancement FIFO')\n",
    "    plt.show()\n",
    "\n",
    "def plot_process_statistics(processes):\n",
    "    process_names = [process.name for process in processes]\n",
    "    waiting_times = [process.waiting_time for process in processes]\n",
    "    turnaround_times = [process.turnaround_time for process in processes]\n",
    "\n",
    "    x = range(len(processes))\n",
    "\n",
    "    fig, ax = plt.subplots()\n",
    "    ax.bar(x, waiting_times, width=0.4, label='Temps d\\'attente', align='center')\n",
    "    ax.bar(x, turnaround_times, width=0.4, label='Temps de séjour', align='edge')\n",
    "\n",
    "    ax.set_xlabel('Processus')\n",
    "    ax.set_ylabel('Temps')\n",
    "    ax.set_title('Temps d\\'attente et de séjour des processus')\n",
    "    ax.set_xticks(x)\n",
    "    ax.set_xticklabels(process_names)\n",
    "    ax.legend()\n",
    "\n",
    "    plt.show()\n",
    "\n",
    "\n",
    "\n",
    "print(\"List of Processes:\")\n",
    "for process in processes:\n",
    "    print(f\"Process: {process.name}, Arrival Time: {process.arrival_time}, CPU Burst: {process.cpu_burst}\")\n",
    "\n",
    "fifo_functionG(processes)\n"
   ]
  },
  {
   "cell_type": "code",
   "execution_count": 300,
   "metadata": {},
   "outputs": [
    {
     "name": "stdout",
     "output_type": "stream",
     "text": [
      "[1:3] Process A\n",
      "[3:8] Process B\n",
      "[8:14] Process D\n",
      "[14:25] Process C\n",
      "[25:38] Process E\n",
      "Average Waiting Time: 7.60\n",
      "Average Turnaround Time: 15.00\n"
     ]
    },
    {
     "data": {
      "image/png": "[encoded data removed]",
      "text/plain": [
       "<Figure size 640x480 with 1 Axes>"
      ]
     },
     "metadata": {},
     "output_type": "display_data"
    },
    {
     "data": {
      "image/png": "[encoded data removed]",
      "text/plain": [
       "<Figure size 640x480 with 1 Axes>"
      ]
     },
     "metadata": {},
     "output_type": "display_data"
    }
   ],
   "source": [
    "def sjf_functionG(processes):\n",
    "    processes.sort(key=lambda process: process.arrival_time)  # Sort by arrival time initially\n",
    "    \n",
    "    current_time = 0\n",
    "    completed_processes = []\n",
    "    remaining_processes = processes.copy()\n",
    "    gantt_chart = []\n",
    "\n",
    "    while remaining_processes:\n",
    "        # Filter processes that have arrived by current time\n",
    "        available_processes = [p for p in remaining_processes if p.arrival_time <= current_time]\n",
    "        \n",
    "        if not available_processes:\n",
    "            # If no process has arrived, move time forward to the next arriving process\n",
    "            current_time = remaining_processes[0].arrival_time\n",
    "            available_processes = [p for p in remaining_processes if p.arrival_time <= current_time]\n",
    "        \n",
    "        # Select the process with the shortest CPU burst from the available processes\n",
    "        next_process = min(available_processes, key=lambda process: process.cpu_burst)\n",
    "        \n",
    "        completed_time = current_time + next_process.cpu_burst\n",
    "        next_process.waiting_time = current_time - next_process.arrival_time\n",
    "        next_process.turnaround_time = next_process.waiting_time + next_process.cpu_burst\n",
    "\n",
    "        gantt_chart.append((next_process.name, current_time, completed_time))\n",
    "        completed_processes.append(next_process)\n",
    "        remaining_processes.remove(next_process)\n",
    "        current_time = completed_time\n",
    "\n",
    "        print(f\"[{current_time - next_process.cpu_burst}:{current_time}] Process {next_process.name}\")\n",
    "\n",
    "    # Calculate average waiting time and turnaround time\n",
    "    avg_waiting_time = sum(process.waiting_time for process in completed_processes) / len(completed_processes)\n",
    "    avg_turnaround_time = sum(process.turnaround_time for process in completed_processes) / len(completed_processes)\n",
    "\n",
    "    print(f\"Average Waiting Time: {avg_waiting_time:.2f}\")\n",
    "    print(f\"Average Turnaround Time: {avg_turnaround_time:.2f}\")\n",
    "\n",
    "    # Affichage graphique des résultats\n",
    "    plot_gantt_chart(gantt_chart)\n",
    "    plot_process_statistics(completed_processes)\n",
    "\n",
    "def plot_gantt_chart(gantt_chart):\n",
    "    fig, gnt = plt.subplots()\n",
    "    \n",
    "    # Set limits and labels for the plot\n",
    "    gnt.set_ylim(0, 10 * len(set(name for name, _, _ in gantt_chart)))\n",
    "    gnt.set_xlim(0, max(end for _, _, end in gantt_chart))\n",
    "    gnt.set_xlabel('Temps')\n",
    "    gnt.set_ylabel('Processus')\n",
    "\n",
    "    # Extract unique process names and assign a position for each\n",
    "    process_names = list(set(name for name, _, _ in gantt_chart))\n",
    "    process_names.sort()\n",
    "    process_positions = {name: (idx * 10 + 5) for idx, name in enumerate(process_names)}\n",
    "    gnt.set_yticks(list(process_positions.values()))\n",
    "    gnt.set_yticklabels(process_names)\n",
    "    gnt.grid(True)\n",
    "\n",
    "    # Plot each process in the Gantt chart\n",
    "    for process_name, start_time, end_time in gantt_chart:\n",
    "        gnt.broken_barh([(start_time, end_time - start_time)], (process_positions[process_name] - 5, 9), facecolors=('tab:blue'))\n",
    "    \n",
    "    plt.title('Diagramme de Gantt de l\\'ordonnancement SJF')\n",
    "    plt.show()\n",
    "\n",
    "def plot_process_statistics(completed_processes):\n",
    "    process_names = [process.name for process in completed_processes]\n",
    "    waiting_times = [process.waiting_time for process in completed_processes]\n",
    "    turnaround_times = [process.turnaround_time for process in completed_processes]\n",
    "\n",
    "    x = range(len(completed_processes))\n",
    "\n",
    "    fig, ax = plt.subplots()\n",
    "    ax.bar(x, waiting_times, width=0.4, label='Temps d\\'attente', align='center')\n",
    "    ax.bar(x, turnaround_times, width=0.4, label='Temps de séjour', align='edge')\n",
    "\n",
    "    ax.set_xlabel('Processus')\n",
    "    ax.set_ylabel('Temps')\n",
    "    ax.set_title('Temps d\\'attente et de séjour des processus')\n",
    "    ax.set_xticks(x)\n",
    "    ax.set_xticklabels(process_names)\n",
    "    ax.legend()\n",
    "\n",
    "    plt.show()\n",
    "\n",
    "\n",
    "\n",
    "sjf_functionG(processes)\n"
   ]
  },
  {
   "cell_type": "code",
   "execution_count": 301,
   "metadata": {},
   "outputs": [
    {
     "name": "stdout",
     "output_type": "stream",
     "text": [
      "[1:1] Process A\n",
      "[2:2] Process B\n",
      "[2:2] Process C\n",
      "[3:3] Process D\n",
      "[5:5] Process E\n",
      "Average Waiting Time: -7.40\n",
      "Average Turnaround Time: 0.00\n"
     ]
    },
    {
     "data": {
      "image/png": "[encoded data removed]",
      "text/plain": [
       "<Figure size 640x480 with 1 Axes>"
      ]
     },
     "metadata": {},
     "output_type": "display_data"
    },
    {
     "data": {
      "image/png": "[encoded data removed]",
      "text/plain": [
       "<Figure size 640x480 with 1 Axes>"
      ]
     },
     "metadata": {},
     "output_type": "display_data"
    }
   ],
   "source": [
    "\n",
    "def rr_functionG(processes, time_quantum):\n",
    "    ready_queue = []  # Queue for processes ready to be executed\n",
    "    completed_processes = []\n",
    "    current_time = 0\n",
    "    gantt_chart = []\n",
    "\n",
    "    while processes or ready_queue:\n",
    "        # Add processes that have arrived at current time\n",
    "        ready_queue.extend([p for p in processes if p.arrival_time <= current_time])\n",
    "        processes = [p for p in processes if p.arrival_time > current_time]\n",
    "\n",
    "        # Check if ready queue is empty\n",
    "        if not ready_queue:\n",
    "            current_time += 1\n",
    "            continue\n",
    "\n",
    "        # Get the first process from the queue\n",
    "        process = ready_queue.pop(0)\n",
    "\n",
    "        # Execute the process for the time quantum or remaining burst\n",
    "        execution_time = min(time_quantum, process.remaining_burst)\n",
    "        gantt_chart.append((process.name, current_time, current_time + execution_time))\n",
    "        print(f\"[{current_time}:{current_time + execution_time}] Process {process.name}\")\n",
    "\n",
    "        current_time += execution_time\n",
    "        process.remaining_burst -= execution_time\n",
    "\n",
    "        # Process completed\n",
    "        if process.remaining_burst == 0:\n",
    "            process.turnaround_time = current_time - process.arrival_time\n",
    "            completed_processes.append(process)\n",
    "        else:\n",
    "            # Add back the process to the ready queue for further execution\n",
    "            ready_queue.append(process)\n",
    "\n",
    "    # Calculate average waiting time and turnaround time\n",
    "    for process in completed_processes:\n",
    "        process.waiting_time = process.turnaround_time - process.cpu_burst\n",
    "\n",
    "    avg_waiting_time = sum(process.waiting_time for process in completed_processes) / len(completed_processes)\n",
    "    avg_turnaround_time = sum(process.turnaround_time for process in completed_processes) / len(completed_processes)\n",
    "\n",
    "    print(f\"Average Waiting Time: {avg_waiting_time:.2f}\")\n",
    "    print(f\"Average Turnaround Time: {avg_turnaround_time:.2f}\")\n",
    "\n",
    "    # Affichage graphique des résultats\n",
    "    plot_gantt_chart(gantt_chart)\n",
    "    plot_process_statistics(completed_processes)\n",
    "\n",
    "def plot_gantt_chart(gantt_chart):\n",
    "    fig, gnt = plt.subplots()\n",
    "\n",
    "    # Set limits and labels for the plot\n",
    "    gnt.set_ylim(0, 10 * len(set(name for name, _, _ in gantt_chart)))\n",
    "    gnt.set_xlim(0, max(end for _, _, end in gantt_chart))\n",
    "    gnt.set_xlabel('Temps')\n",
    "    gnt.set_ylabel('Processus')\n",
    "\n",
    "    # Extract unique process names and assign a position for each\n",
    "    process_names = list(set(name for name, _, _ in gantt_chart))\n",
    "    process_names.sort()\n",
    "    process_positions = {name: (idx * 10 + 5) for idx, name in enumerate(process_names)}\n",
    "    gnt.set_yticks(list(process_positions.values()))\n",
    "    gnt.set_yticklabels(process_names)\n",
    "    gnt.grid(True)\n",
    "\n",
    "    # Plot each process in the Gantt chart\n",
    "    for process_name, start_time, end_time in gantt_chart:\n",
    "        gnt.broken_barh([(start_time, end_time - start_time)], (process_positions[process_name] - 5, 9), facecolors=('tab:blue'))\n",
    "    \n",
    "    plt.title('Diagramme de Gantt de l\\'ordonnancement Round Robin')\n",
    "    plt.show()\n",
    "\n",
    "def plot_process_statistics(completed_processes):\n",
    "    process_names = [process.name for process in completed_processes]\n",
    "    waiting_times = [process.waiting_time for process in completed_processes]\n",
    "    turnaround_times = [process.turnaround_time for process in completed_processes]\n",
    "\n",
    "    x = range(len(completed_processes))\n",
    "\n",
    "    fig, ax = plt.subplots()\n",
    "    ax.bar(x, waiting_times, width=0.4, label='Temps d\\'attente', align='center')\n",
    "    ax.bar(x, turnaround_times, width=0.4, label='Temps de séjour', align='edge')\n",
    "\n",
    "    ax.set_xlabel('Processus')\n",
    "    ax.set_ylabel('Temps')\n",
    "    ax.set_title('Temps d\\'attente et de séjour des processus')\n",
    "    ax.set_xticks(x)\n",
    "    ax.set_xticklabels(process_names)\n",
    "    ax.legend()\n",
    "\n",
    "    plt.show()\n",
    "\n",
    "\n",
    "\n",
    "\n",
    "rr_functionG(processes, time_quantum=4)\n"
   ]
  },
  {
   "cell_type": "code",
   "execution_count": 302,
   "metadata": {},
   "outputs": [],
   "source": [
    "def rr_function(processes, time_quantum):\n",
    "  \n",
    "    ready_queue = []  # Queue for processes ready to be executed\n",
    "    completed_processes = []\n",
    "    current_time = 0\n",
    "\n",
    "    while processes or ready_queue:\n",
    "        # Add processes that have arrived at current time\n",
    "        ready_queue.extend([p for p in processes if p.arrival_time <= current_time])\n",
    "        processes = [p for p in processes if p.arrival_time > current_time]\n",
    "\n",
    "        # Check if ready queue is empty\n",
    "        if not ready_queue:\n",
    "            current_time += 1\n",
    "            continue\n",
    "\n",
    "        # Get the first process from the queue\n",
    "        process = ready_queue.pop(0)\n",
    "\n",
    "        # Execute the process for the time quantum or remaining burst\n",
    "        execution_time = min(time_quantum, process.remaining_burst)\n",
    "        print(f\"[{current_time}:{current_time + execution_time}] Process {process.name}\")\n",
    "        \n",
    "        current_time += execution_time\n",
    "        process.remaining_burst -= execution_time\n",
    "\n",
    "        # Process completed\n",
    "        if process.remaining_burst == 0:\n",
    "            process.turnaround_time = current_time - process.arrival_time\n",
    "            completed_processes.append(process)\n",
    "        else:\n",
    "            # Add back the process to the ready queue for further execution\n",
    "            ready_queue.append(process)\n",
    "\n",
    "    # Calculate average waiting time and turnaround time\n",
    "    for process in completed_processes:\n",
    "        process.waiting_time = process.turnaround_time - process.cpu_burst\n",
    "    \n",
    "    avg_waiting_time = sum(process.waiting_time for process in completed_processes) / len(completed_processes)\n",
    "    avg_turnaround_time = sum(process.turnaround_time for process in completed_processes) / len(completed_processes)\n",
    "\n",
    "    print(f\"Average Waiting Time: {avg_waiting_time:.2f}\")\n",
    "    print(f\"Average Turnaround Time: {avg_turnaround_time:.2f}\")\n"
   ]
  }
 ],
 "metadata": {
  "kernelspec": {
   "display_name": "Python 3",
   "language": "python",
   "name": "python3"
  },
  "language_info": {
   "codemirror_mode": {
    "name": "ipython",
    "version": 3
   },
   "file_extension": ".py",
   "mimetype": "text/x-python",
   "name": "python",
   "nbconvert_exporter": "python",
   "pygments_lexer": "ipython3",
   "version": "3.12.1"
  }
 },
 "nbformat": 4,
 "nbformat_minor": 2
}
